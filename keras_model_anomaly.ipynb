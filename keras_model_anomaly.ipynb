{
  "nbformat": 4,
  "nbformat_minor": 0,
  "metadata": {
    "colab": {
      "name": "keras_model_anomaly.ipynb",
      "provenance": []
    },
    "kernelspec": {
      "name": "python3",
      "display_name": "Python 3"
    }
  },
  "cells": [
    {
      "cell_type": "code",
      "metadata": {
        "id": "jCGE-KAclCW5"
      },
      "source": [
        "###Training Data"
      ],
      "execution_count": 1,
      "outputs": []
    },
    {
      "cell_type": "code",
      "metadata": {
        "colab": {
          "base_uri": "https://localhost:8080/"
        },
        "id": "OASLU5A0lgCn",
        "outputId": "2844768c-d179-4b5d-935c-6ef306428a38"
      },
      "source": [
        "# lstm autoencoder to recreate a timeseries\r\n",
        "import numpy as np\r\n",
        "from keras.models import Sequential\r\n",
        "from keras.layers import LSTM\r\n",
        "from keras.layers import Dense\r\n",
        "from keras.layers import RepeatVector\r\n",
        "from keras.layers import TimeDistributed\r\n",
        "import pandas as pd\r\n",
        "from sklearn.preprocessing import MinMaxScaler\r\n",
        "from keras.callbacks import ModelCheckpoint\r\n",
        "from keras.models import load_model\r\n",
        "import matplotlib.pyplot as plt\r\n",
        "'''\r\n",
        "A UDF to convert input data into 3-D\r\n",
        "array as required for LSTM network.\r\n",
        "\r\n",
        "'''\r\n",
        "df = pd.read_csv('/content/sample_data/all_motor_data.csv',header=None)\r\n",
        "def temporalize(X, y, lookback):\r\n",
        "    output_X = []\r\n",
        "    output_y = []\r\n",
        "    for i in range(len(X)-lookback-1):\r\n",
        "        t = []\r\n",
        "        for j in range(1,lookback+1):\r\n",
        "            # Gather past records upto the lookback period\r\n",
        "            t.append(X[[(i+j+1)], :])\r\n",
        "        output_X.append(t)\r\n",
        "        output_y.append(y[i+lookback+1])\r\n",
        "    return output_X, output_y\r\n",
        "\r\n",
        "# define input timeseries\r\n",
        "timeseries = np.array([df[0].values,df[1].values,df[2].values,df[3].values]).transpose()\r\n",
        "\r\n",
        "\r\n",
        "\r\n",
        "timesteps = 10\r\n",
        "X, y = temporalize(X = timeseries, y = np.zeros(len(timeseries)), lookback = timesteps)\r\n",
        "\r\n",
        "n_features = 4\r\n",
        "X = np.array(X)\r\n",
        "X = X.reshape(X.shape[0], timesteps, n_features)\r\n",
        "\r\n",
        "\r\n",
        "print(X.shape)"
      ],
      "execution_count": 4,
      "outputs": [
        {
          "output_type": "stream",
          "text": [
            "(24554, 10, 4)\n"
          ],
          "name": "stdout"
        }
      ]
    },
    {
      "cell_type": "code",
      "metadata": {
        "colab": {
          "base_uri": "https://localhost:8080/"
        },
        "id": "sSw0UMSclh2O",
        "outputId": "01f1605c-c4f0-4b91-f71e-6fdd7dd1331c"
      },
      "source": [
        "# load model\r\n",
        "model = load_model('/content/sample_data/weights-improvement-97-0.98.hdf5')\r\n",
        "# summarize model.\r\n",
        "model.summary()"
      ],
      "execution_count": 5,
      "outputs": [
        {
          "output_type": "stream",
          "text": [
            "Model: \"sequential_1\"\n",
            "_________________________________________________________________\n",
            "Layer (type)                 Output Shape              Param #   \n",
            "=================================================================\n",
            "lstm_1 (LSTM)                (None, 10, 256)           267264    \n",
            "_________________________________________________________________\n",
            "lstm_2 (LSTM)                (None, 128)               197120    \n",
            "_________________________________________________________________\n",
            "repeat_vector_1 (RepeatVecto (None, 10, 128)           0         \n",
            "_________________________________________________________________\n",
            "lstm_3 (LSTM)                (None, 10, 128)           131584    \n",
            "_________________________________________________________________\n",
            "lstm_4 (LSTM)                (None, 10, 256)           394240    \n",
            "_________________________________________________________________\n",
            "time_distributed_1 (TimeDist (None, 10, 4)             1028      \n",
            "=================================================================\n",
            "Total params: 991,236\n",
            "Trainable params: 991,236\n",
            "Non-trainable params: 0\n",
            "_________________________________________________________________\n"
          ],
          "name": "stdout"
        }
      ]
    },
    {
      "cell_type": "code",
      "metadata": {
        "colab": {
          "base_uri": "https://localhost:8080/"
        },
        "id": "cwkwCsoUuhtD",
        "outputId": "f7b6243c-2610-418d-dca0-4bca0cb0e02d"
      },
      "source": [
        "x_train_pred = model.predict(X, verbose=1)"
      ],
      "execution_count": 6,
      "outputs": [
        {
          "output_type": "stream",
          "text": [
            "768/768 [==============================] - 20s 26ms/step\n"
          ],
          "name": "stdout"
        }
      ]
    },
    {
      "cell_type": "code",
      "metadata": {
        "id": "FkZYlz-SuoQo"
      },
      "source": [
        "x_array_pred = np.zeros(shape = (x_train_pred.shape[0],x_train_pred.shape[1],1))\r\n",
        "y_array_pred = np.zeros(shape = (x_train_pred.shape[0],x_train_pred.shape[1],1))\r\n",
        "z_array_pred = np.zeros(shape = (x_train_pred.shape[0],x_train_pred.shape[1],1))\r\n",
        "amp_array_pred = np.zeros(shape = (x_train_pred.shape[0],x_train_pred.shape[1],1))\r\n",
        "\r\n",
        "x_array = np.zeros(shape = (x_train_pred.shape[0],x_train_pred.shape[1],1))\r\n",
        "y_array = np.zeros(shape = (x_train_pred.shape[0],x_train_pred.shape[1],1))\r\n",
        "z_array = np.zeros(shape = (x_train_pred.shape[0],x_train_pred.shape[1],1))\r\n",
        "amp_array = np.zeros(shape = (x_train_pred.shape[0],x_train_pred.shape[1],1))"
      ],
      "execution_count": 7,
      "outputs": []
    },
    {
      "cell_type": "code",
      "metadata": {
        "id": "ATbdSLOKu2z7"
      },
      "source": [
        "for i in range(0,x_train_pred.shape[0]):\r\n",
        "  for j in range(0, x_train_pred.shape[1]):\r\n",
        "    x_array_pred[i][j] = x_train_pred[i][j][0]\r\n",
        "    y_array_pred[i][j] = x_train_pred[i][j][1]\r\n",
        "    z_array_pred[i][j] = x_train_pred[i][j][2]\r\n",
        "    amp_array_pred[i][j] = x_train_pred[i][j][3]\r\n",
        "\r\n",
        "    x_array[i][j] = X[i][j][0]\r\n",
        "    y_array[i][j] = X[i][j][1]\r\n",
        "    z_array[i][j] = X[i][j][2]\r\n",
        "    amp_array[i][j] = X[i][j][3] "
      ],
      "execution_count": 8,
      "outputs": []
    },
    {
      "cell_type": "code",
      "metadata": {
        "id": "T36TcY7B8Rje"
      },
      "source": [
        ""
      ],
      "execution_count": 41,
      "outputs": []
    },
    {
      "cell_type": "code",
      "metadata": {
        "id": "UB1r7GzO8R4D"
      },
      "source": [
        ""
      ],
      "execution_count": null,
      "outputs": []
    },
    {
      "cell_type": "code",
      "metadata": {
        "id": "iz0twgfg8SJL"
      },
      "source": [
        ""
      ],
      "execution_count": null,
      "outputs": []
    },
    {
      "cell_type": "code",
      "metadata": {
        "id": "NtPzl0bMu9vX"
      },
      "source": [
        "#Mean Average Errors\r\n",
        "train_mae_loss_x = np.mean(np.abs(x_array_pred - x_array),axis = 1)\r\n",
        "train_mae_loss_y = np.mean(np.abs(y_array_pred - y_array),axis = 1)\r\n",
        "train_mae_loss_z = np.mean(np.abs(z_array_pred - z_array),axis = 1)\r\n",
        "train_mae_loss_amp = np.mean(np.abs(amp_array_pred - amp_array),axis = 1)"
      ],
      "execution_count": 9,
      "outputs": []
    },
    {
      "cell_type": "code",
      "metadata": {
        "colab": {
          "base_uri": "https://localhost:8080/",
          "height": 312
        },
        "id": "SepFKq11vhro",
        "outputId": "0efbc1ff-74e3-471e-f80d-e9949c753d6a"
      },
      "source": [
        "plt.hist(train_mae_loss_x, bins=150)\r\n",
        "plt.xlabel(\"Train MAE\")\r\n",
        "plt.ylabel(\"Number of Samples\")\r\n",
        "plt.title(\"Mean Average Error Along X-Axis Acceleration\")\r\n",
        "\r\n",
        "threshold_x = np.max(train_mae_loss_x)\r\n",
        "print(f'Reconstruction error threshold: {threshold_x}')"
      ],
      "execution_count": 17,
      "outputs": [
        {
          "output_type": "stream",
          "text": [
            "Reconstruction error threshold: 6.17099484372139\n"
          ],
          "name": "stdout"
        },
        {
          "output_type": "display_data",
          "data": {
            "image/png": "[encoded data removed]",
            "text/plain": [
              "<Figure size 432x288 with 1 Axes>"
            ]
          },
          "metadata": {
            "tags": [],
            "needs_background": "light"
          }
        }
      ]
    },
    {
      "cell_type": "code",
      "metadata": {
        "colab": {
          "base_uri": "https://localhost:8080/",
          "height": 312
        },
        "id": "1JGWWUAVwElJ",
        "outputId": "8aa82093-c50b-4bd0-e741-0ca06fbe62c5"
      },
      "source": [
        "plt.hist(train_mae_loss_y, bins=150)\r\n",
        "plt.xlabel(\"Train MAE\")\r\n",
        "plt.ylabel(\"Number of Samples\")\r\n",
        "plt.title(\"Mean Average Error Along Y-Axis Acceleration\")\r\n",
        "\r\n",
        "threshold_y = np.max(train_mae_loss_y)\r\n",
        "print(f'Reconstruction error threshold: {threshold_y}')"
      ],
      "execution_count": 18,
      "outputs": [
        {
          "output_type": "stream",
          "text": [
            "Reconstruction error threshold: 3.711390591144563\n"
          ],
          "name": "stdout"
        },
        {
          "output_type": "display_data",
          "data": {
            "image/png": "[encoded data removed]",
            "text/plain": [
              "<Figure size 432x288 with 1 Axes>"
            ]
          },
          "metadata": {
            "tags": [],
            "needs_background": "light"
          }
        }
      ]
    },
    {
      "cell_type": "code",
      "metadata": {
        "colab": {
          "base_uri": "https://localhost:8080/",
          "height": 312
        },
        "id": "qhv0c0NyxkTH",
        "outputId": "426d0916-51fa-4730-d0ec-44b09e9dcdef"
      },
      "source": [
        "plt.hist(train_mae_loss_z, bins=150)\r\n",
        "plt.xlabel(\"Train MAE\")\r\n",
        "plt.ylabel(\"Number of Samples\")\r\n",
        "plt.title(\"Mean Average Error Along Z-Axis Acceleration\")\r\n",
        "\r\n",
        "threshold_z = np.max(train_mae_loss_z)\r\n",
        "print(f'Reconstruction error threshold: {threshold_z}')"
      ],
      "execution_count": 19,
      "outputs": [
        {
          "output_type": "stream",
          "text": [
            "Reconstruction error threshold: 6.475497664451599\n"
          ],
          "name": "stdout"
        },
        {
          "output_type": "display_data",
          "data": {
            "image/png": "[encoded data removed]",
            "text/plain": [
              "<Figure size 432x288 with 1 Axes>"
            ]
          },
          "metadata": {
            "tags": [],
            "needs_background": "light"
          }
        }
      ]
    },
    {
      "cell_type": "code",
      "metadata": {
        "colab": {
          "base_uri": "https://localhost:8080/",
          "height": 312
        },
        "id": "ZP0L78ABxy5w",
        "outputId": "3cf388a1-cf13-4de4-9b66-a06e16af12f2"
      },
      "source": [
        "plt.hist(train_mae_loss_amp, bins=150)\r\n",
        "plt.xlabel(\"Train MAE\")\r\n",
        "plt.ylabel(\"Number of Samples\")\r\n",
        "plt.title(\"Mean Average Error for Stepper Motor Current Consumption\")\r\n",
        "\r\n",
        "threshold_amp = np.max(train_mae_loss_amp)\r\n",
        "print(f'Reconstruction error threshold: {threshold_amp}')"
      ],
      "execution_count": 20,
      "outputs": [
        {
          "output_type": "stream",
          "text": [
            "Reconstruction error threshold: 0.14692111110687256\n"
          ],
          "name": "stdout"
        },
        {
          "output_type": "display_data",
          "data": {
            "image/png": "[encoded data removed]",
            "text/plain": [
              "<Figure size 432x288 with 1 Axes>"
            ]
          },
          "metadata": {
            "tags": [],
            "needs_background": "light"
          }
        }
      ]
    },
    {
      "cell_type": "code",
      "metadata": {
        "id": "Owb9r4FHySe9"
      },
      "source": [
        "###Anomaly Data"
      ],
      "execution_count": 21,
      "outputs": []
    },
    {
      "cell_type": "code",
      "metadata": {
        "id": "O3Y99CEnyjNH"
      },
      "source": [
        "a_df = pd.read_csv('/content/sample_data/anomaly_data.csv',header=None)"
      ],
      "execution_count": 22,
      "outputs": []
    },
    {
      "cell_type": "code",
      "metadata": {
        "id": "Qm0RR27ayudb"
      },
      "source": [
        "# define input timeseries\r\n",
        "timeseries_a = np.array([a_df[0].values,a_df[1].values,a_df[2].values,a_df[3].values]).transpose()\r\n",
        "\r\n",
        "X_a, y_a = temporalize(X = timeseries_a, y = np.zeros(len(timeseries_a)), lookback = timesteps)"
      ],
      "execution_count": 23,
      "outputs": []
    },
    {
      "cell_type": "code",
      "metadata": {
        "colab": {
          "base_uri": "https://localhost:8080/"
        },
        "id": "EPi_vEHiy0JH",
        "outputId": "0310aa18-2215-4bdc-f175-c21ff10bc7e5"
      },
      "source": [
        "X_a = np.array(X_a)\r\n",
        "X_a = X_a.reshape(X_a.shape[0], timesteps, n_features)\r\n",
        "print(X_a.shape)"
      ],
      "execution_count": 24,
      "outputs": [
        {
          "output_type": "stream",
          "text": [
            "(5165, 10, 4)\n"
          ],
          "name": "stdout"
        }
      ]
    },
    {
      "cell_type": "code",
      "metadata": {
        "id": "X5d3Yrlwy8_d"
      },
      "source": [
        "x_test = model.predict(X_a, verbose=0)"
      ],
      "execution_count": 25,
      "outputs": []
    },
    {
      "cell_type": "code",
      "metadata": {
        "id": "-3VXlzyuzGn3"
      },
      "source": [
        "anomaly_x_pred = np.zeros(shape = (x_test.shape[0],x_test.shape[1],1))\r\n",
        "anomaly_y_pred = np.zeros(shape = (x_test.shape[0],x_test.shape[1],1))\r\n",
        "anomaly_z_pred = np.zeros(shape = (x_test.shape[0],x_test.shape[1],1))\r\n",
        "anomaly_amp_pred = np.zeros(shape = (x_test.shape[0],x_test.shape[1],1))\r\n",
        "\r\n",
        "anomaly_x = np.zeros(shape = (x_test.shape[0],x_test.shape[1],1))\r\n",
        "anomaly_y = np.zeros(shape = (x_test.shape[0],x_test.shape[1],1))\r\n",
        "anomaly_z = np.zeros(shape = (x_test.shape[0],x_test.shape[1],1))\r\n",
        "anomaly_amp = np.zeros(shape = (x_test.shape[0],x_test.shape[1],1))"
      ],
      "execution_count": 26,
      "outputs": []
    },
    {
      "cell_type": "code",
      "metadata": {
        "id": "flcp7jAe1ybu"
      },
      "source": [
        "for i in range(0,x_test.shape[0]):\r\n",
        "  for j in range(0, x_test.shape[1]):\r\n",
        "    anomaly_x_pred[i][j] = x_test[i][j][0]\r\n",
        "    anomaly_y_pred[i][j] = x_test[i][j][1]\r\n",
        "    anomaly_z_pred[i][j] = x_test[i][j][2]\r\n",
        "    anomaly_amp_pred[i][j] = x_test[i][j][3]\r\n",
        "\r\n",
        "    anomaly_x[i][j] = X_a[i][j][0]\r\n",
        "    anomaly_y[i][j] = X_a[i][j][1]\r\n",
        "    anomaly_z[i][j] = X_a[i][j][2]\r\n",
        "    anomaly_amp[i][j] = X_a[i][j][3] "
      ],
      "execution_count": 27,
      "outputs": []
    },
    {
      "cell_type": "code",
      "metadata": {
        "id": "X7CaZz1Z2fg-"
      },
      "source": [
        "#Anomaly Mean Average Errors\r\n",
        "test_mae_loss_x = np.mean(np.abs(anomaly_x_pred - anomaly_x),axis = 1)\r\n",
        "test_mae_loss_y = np.mean(np.abs(anomaly_y_pred - anomaly_y),axis = 1)\r\n",
        "test_mae_loss_z = np.mean(np.abs(anomaly_z_pred - anomaly_z),axis = 1)\r\n",
        "test_mae_loss_amp = np.mean(np.abs(anomaly_amp_pred - anomaly_amp),axis = 1)"
      ],
      "execution_count": 45,
      "outputs": []
    },
    {
      "cell_type": "code",
      "metadata": {
        "id": "jGlrO14H-_kt"
      },
      "source": [
        ""
      ],
      "execution_count": 45,
      "outputs": []
    },
    {
      "cell_type": "code",
      "metadata": {
        "colab": {
          "base_uri": "https://localhost:8080/",
          "height": 312
        },
        "id": "PdE2voY83DD2",
        "outputId": "30adad8b-7553-4892-e429-9f4decc9f0d2"
      },
      "source": [
        "plt.hist(test_mae_loss_x, bins=150)\r\n",
        "plt.xlabel(\"Test MAE\")\r\n",
        "plt.ylabel(\"Number of Samples\")\r\n",
        "plt.title(\"Mean Average Error Along X-Axis Acceleration\")\r\n",
        "\r\n",
        "threshold_a_x = np.max(test_mae_loss_x)\r\n",
        "print(f'Reconstruction error threshold: {threshold_a_x}')"
      ],
      "execution_count": 46,
      "outputs": [
        {
          "output_type": "stream",
          "text": [
            "Reconstruction error threshold: 6.308611881732941\n"
          ],
          "name": "stdout"
        },
        {
          "output_type": "display_data",
          "data": {
            "image/png": "[encoded data removed]",
            "text/plain": [
              "<Figure size 432x288 with 1 Axes>"
            ]
          },
          "metadata": {
            "tags": [],
            "needs_background": "light"
          }
        }
      ]
    },
    {
      "cell_type": "code",
      "metadata": {
        "colab": {
          "base_uri": "https://localhost:8080/",
          "height": 312
        },
        "id": "CGEhdoip3SiS",
        "outputId": "6938ae1f-afd8-4115-84d0-95243ea4f47c"
      },
      "source": [
        "plt.hist(test_mae_loss_y, bins=150)\r\n",
        "plt.xlabel(\"Test MAE\")\r\n",
        "plt.ylabel(\"Number of Samples\")\r\n",
        "plt.title(\"Mean Average Error Along Y-Axis Acceleration\")\r\n",
        "\r\n",
        "threshold_a_y = np.max(test_mae_loss_y)\r\n",
        "print(f'Reconstruction error threshold: {threshold_a_y}')"
      ],
      "execution_count": 30,
      "outputs": [
        {
          "output_type": "stream",
          "text": [
            "Reconstruction error threshold: 6.398523383855819\n"
          ],
          "name": "stdout"
        },
        {
          "output_type": "display_data",
          "data": {
            "image/png": "[encoded data removed]",
            "text/plain": [
              "<Figure size 432x288 with 1 Axes>"
            ]
          },
          "metadata": {
            "tags": [],
            "needs_background": "light"
          }
        }
      ]
    },
    {
      "cell_type": "code",
      "metadata": {
        "colab": {
          "base_uri": "https://localhost:8080/",
          "height": 312
        },
        "id": "W3_3Uim73dIe",
        "outputId": "ba5b8bc3-70ba-4a5c-ca48-110868e2eaa4"
      },
      "source": [
        "plt.hist(test_mae_loss_z, bins=150)\r\n",
        "plt.xlabel(\"Test MAE\")\r\n",
        "plt.ylabel(\"Number of Samples\")\r\n",
        "plt.title(\"Mean Average Error Along Z-Axis Acceleration\")\r\n",
        "\r\n",
        "threshold_a_z = np.max(test_mae_loss_z)\r\n",
        "print(f'Reconstruction error threshold: {threshold_a_z}')"
      ],
      "execution_count": 31,
      "outputs": [
        {
          "output_type": "stream",
          "text": [
            "Reconstruction error threshold: 6.790493705749512\n"
          ],
          "name": "stdout"
        },
        {
          "output_type": "display_data",
          "data": {
            "image/png": "[encoded data removed]",
            "text/plain": [
              "<Figure size 432x288 with 1 Axes>"
            ]
          },
          "metadata": {
            "tags": [],
            "needs_background": "light"
          }
        }
      ]
    },
    {
      "cell_type": "code",
      "metadata": {
        "colab": {
          "base_uri": "https://localhost:8080/",
          "height": 312
        },
        "id": "yIwGS4VC4bXc",
        "outputId": "0c36027d-4070-4883-c416-40b3cc3d8655"
      },
      "source": [
        "plt.hist(test_mae_loss_amp, bins=150)\r\n",
        "plt.xlabel(\"Test MAE\")\r\n",
        "plt.ylabel(\"Number of Samples\")\r\n",
        "plt.title(\"Mean Average Error for Stepper Motor Current Consumption\")\r\n",
        "\r\n",
        "threshold_a_amp = np.max(test_mae_loss_amp)\r\n",
        "print(f'Reconstruction error threshold: {threshold_a_amp}')"
      ],
      "execution_count": 32,
      "outputs": [
        {
          "output_type": "stream",
          "text": [
            "Reconstruction error threshold: 0.49784875214099883\n"
          ],
          "name": "stdout"
        },
        {
          "output_type": "display_data",
          "data": {
            "image/png": "[encoded data removed]",
            "text/plain": [
              "<Figure size 432x288 with 1 Axes>"
            ]
          },
          "metadata": {
            "tags": [],
            "needs_background": "light"
          }
        }
      ]
    },
    {
      "cell_type": "code",
      "metadata": {
        "id": "7iwaJ47s4uFZ"
      },
      "source": [
        "test_data = pd.DataFrame()\r\n",
        "\r\n",
        "test_data['x_loss'] = test_mae_loss_x.flatten()\r\n",
        "test_data['threshold_x'] = threshold_x\r\n",
        "test_data['anomaly_x'] = test_data['x_loss'] > test_data['threshold_x']\r\n",
        "\r\n",
        "test_data['y_loss'] = test_mae_loss_y\r\n",
        "test_data['threshold_y'] = threshold_y\r\n",
        "test_data['anomaly_y'] = test_data['y_loss'] > test_data['threshold_y']\r\n",
        "\r\n",
        "test_data['z_loss'] = test_mae_loss_z\r\n",
        "test_data['threshold_z'] = threshold_z\r\n",
        "test_data['anomaly_z'] = test_data['z_loss'] > test_data['threshold_z']\r\n",
        "\r\n",
        "test_data['amp_loss'] = test_mae_loss_amp\r\n",
        "test_data['threshold_amp'] = threshold_amp\r\n",
        "test_data['anomaly_amp'] = test_data['amp_loss'] > test_data['threshold_amp']\r\n",
        "\r\n"
      ],
      "execution_count": 102,
      "outputs": []
    },
    {
      "cell_type": "code",
      "metadata": {
        "colab": {
          "base_uri": "https://localhost:8080/",
          "height": 279
        },
        "id": "gj2UjwHv_czc",
        "outputId": "316ac859-5bbd-4661-8241-9275e73d4e06"
      },
      "source": [
        "plt.plot(test_data['x_loss'],color='blue')\r\n",
        "plt.plot(test_data['threshold_x'],color='red')\r\n",
        "plt.legend(['Mean Average Error','Threshold'],loc=\"upper right\")\r\n",
        "plt.xlabel(\"Samples\")\r\n",
        "plt.ylabel(\"Mean Average Error X-axis\")\r\n",
        "plt.show()"
      ],
      "execution_count": 103,
      "outputs": [
        {
          "output_type": "display_data",
          "data": {
            "image/png": "[encoded data removed]",
            "text/plain": [
              "<Figure size 432x288 with 1 Axes>"
            ]
          },
          "metadata": {
            "tags": [],
            "needs_background": "light"
          }
        }
      ]
    },
    {
      "cell_type": "code",
      "metadata": {
        "colab": {
          "base_uri": "https://localhost:8080/",
          "height": 279
        },
        "id": "jc2mHeNo_v1a",
        "outputId": "878ed817-daac-40fe-cb52-ba09b11a3e53"
      },
      "source": [
        "plt.plot(test_data['y_loss'],color='blue')\r\n",
        "plt.plot(test_data['threshold_y'],color='red')\r\n",
        "plt.legend(['Mean Average Error','Threshold'],loc=\"upper right\")\r\n",
        "plt.xlabel(\"Samples\")\r\n",
        "plt.ylabel(\"Mean Average Error Y-Axis\")\r\n",
        "plt.show()"
      ],
      "execution_count": 104,
      "outputs": [
        {
          "output_type": "display_data",
          "data": {
            "image/png": "[encoded data removed]",
            "text/plain": [
              "<Figure size 432x288 with 1 Axes>"
            ]
          },
          "metadata": {
            "tags": [],
            "needs_background": "light"
          }
        }
      ]
    },
    {
      "cell_type": "code",
      "metadata": {
        "colab": {
          "base_uri": "https://localhost:8080/",
          "height": 280
        },
        "id": "0BfGRUvDLI_6",
        "outputId": "7d652f39-10c3-4b88-8801-51c1e990774f"
      },
      "source": [
        "plt.plot(test_data['z_loss'],color='blue')\r\n",
        "plt.plot(test_data['threshold_z'],color='red')\r\n",
        "plt.legend(['Mean Average Error','Threshold'],loc=\"upper right\")\r\n",
        "plt.xlabel(\"Samples\")\r\n",
        "plt.ylabel(\"Mean Average Error z-Axis\")\r\n",
        "plt.show()"
      ],
      "execution_count": 105,
      "outputs": [
        {
          "output_type": "display_data",
          "data": {
            "image/png": "[encoded data removed]",
            "text/plain": [
              "<Figure size 432x288 with 1 Axes>"
            ]
          },
          "metadata": {
            "tags": [],
            "needs_background": "light"
          }
        }
      ]
    },
    {
      "cell_type": "code",
      "metadata": {
        "colab": {
          "base_uri": "https://localhost:8080/",
          "height": 279
        },
        "id": "6dTBqEm9Oc-E",
        "outputId": "66bc82d2-1f3d-4fc9-d0b0-c1f3aff66b59"
      },
      "source": [
        "plt.plot(test_data['amp_loss'],color='blue')\r\n",
        "plt.plot(test_data['threshold_amp'],color='red')\r\n",
        "plt.legend(['Mean Average Error','Threshold'],loc=\"upper right\")\r\n",
        "plt.xlabel(\"Samples\")\r\n",
        "plt.ylabel(\"Mean Average Error Current Consumption\")\r\n",
        "plt.show()"
      ],
      "execution_count": 106,
      "outputs": [
        {
          "output_type": "display_data",
          "data": {
            "image/png": "[encoded data removed]",
            "text/plain": [
              "<Figure size 432x288 with 1 Axes>"
            ]
          },
          "metadata": {
            "tags": [],
            "needs_background": "light"
          }
        }
      ]
    },
    {
      "cell_type": "code",
      "metadata": {
        "id": "7ALqOxyVOoVZ"
      },
      "source": [
        "x_anomalies = test_data.loc[test_data['anomaly_x'] == True]\r\n",
        "y_anomalies = test_data.loc[test_data['anomaly_y']==True]\r\n",
        "z_anomalies = test_data.loc[test_data['anomaly_z']==True]\r\n",
        "amp_anomalies = test_data.loc[test_data['anomaly_amp']==True]"
      ],
      "execution_count": 107,
      "outputs": []
    },
    {
      "cell_type": "code",
      "metadata": {
        "colab": {
          "base_uri": "https://localhost:8080/",
          "height": 279
        },
        "id": "l-XtZfLBPdet",
        "outputId": "27362330-f3dc-4151-a564-cfdb52ce9265"
      },
      "source": [
        "plt.bar(['X anomaly','Y axis anomaly','Z anomaly','Amp Anomaly'],[x_anomalies.shape[0],y_anomalies.shape[0],z_anomalies.shape[0],amp_anomalies.shape[0]])\r\n",
        "plt.xlabel('Parameters')\r\n",
        "plt.ylabel('Anomaly Samples')\r\n",
        "plt.show()"
      ],
      "execution_count": 113,
      "outputs": [
        {
          "output_type": "display_data",
          "data": {
            "image/png": "[encoded data removed]",
            "text/plain": [
              "<Figure size 432x288 with 1 Axes>"
            ]
          },
          "metadata": {
            "tags": [],
            "needs_background": "light"
          }
        }
      ]
    },
    {
      "cell_type": "code",
      "metadata": {
        "colab": {
          "base_uri": "https://localhost:8080/"
        },
        "id": "Yjsbv8V3Wzfs",
        "outputId": "7ae13f70-f44d-4636-f2d8-af6fb6d88f6a"
      },
      "source": [
        "test_mae_loss_amp.shape"
      ],
      "execution_count": 98,
      "outputs": [
        {
          "output_type": "execute_result",
          "data": {
            "text/plain": [
              "(5165, 1)"
            ]
          },
          "metadata": {
            "tags": []
          },
          "execution_count": 98
        }
      ]
    },
    {
      "cell_type": "code",
      "metadata": {
        "colab": {
          "base_uri": "https://localhost:8080/"
        },
        "id": "hH3AVBXGQ9Bv",
        "outputId": "6f21a060-58be-4470-b1ce-0a208510f489"
      },
      "source": [
        "anomaly_x.shape"
      ],
      "execution_count": 100,
      "outputs": [
        {
          "output_type": "execute_result",
          "data": {
            "text/plain": [
              "(5165, 10, 1)"
            ]
          },
          "metadata": {
            "tags": []
          },
          "execution_count": 100
        }
      ]
    },
    {
      "cell_type": "code",
      "metadata": {
        "colab": {
          "base_uri": "https://localhost:8080/",
          "height": 424
        },
        "id": "ml7CaxNPU2Xu",
        "outputId": "38d70638-2cb0-4ae3-8029-d973ce9d3f09"
      },
      "source": [
        "amp_anomalies"
      ],
      "execution_count": 115,
      "outputs": [
        {
          "output_type": "execute_result",
          "data": {
            "text/html": [
              "<div>\n",
              "<style scoped>\n",
              "    .dataframe tbody tr th:only-of-type {\n",
              "        vertical-align: middle;\n",
              "    }\n",
              "\n",
              "    .dataframe tbody tr th {\n",
              "        vertical-align: top;\n",
              "    }\n",
              "\n",
              "    .dataframe thead th {\n",
              "        text-align: right;\n",
              "    }\n",
              "</style>\n",
              "<table border=\"1\" class=\"dataframe\">\n",
              "  <thead>\n",
              "    <tr style=\"text-align: right;\">\n",
              "      <th></th>\n",
              "      <th>x_loss</th>\n",
              "      <th>threshold_x</th>\n",
              "      <th>anomaly_x</th>\n",
              "      <th>y_loss</th>\n",
              "      <th>threshold_y</th>\n",
              "      <th>anomaly_y</th>\n",
              "      <th>z_loss</th>\n",
              "      <th>threshold_z</th>\n",
              "      <th>anomaly_z</th>\n",
              "      <th>amp_loss</th>\n",
              "      <th>threshold_amp</th>\n",
              "      <th>anomaly_amp</th>\n",
              "    </tr>\n",
              "  </thead>\n",
              "  <tbody>\n",
              "    <tr>\n",
              "      <th>0</th>\n",
              "      <td>1.030773</td>\n",
              "      <td>6.170995</td>\n",
              "      <td>False</td>\n",
              "      <td>0.947386</td>\n",
              "      <td>3.711391</td>\n",
              "      <td>False</td>\n",
              "      <td>0.915524</td>\n",
              "      <td>6.475498</td>\n",
              "      <td>False</td>\n",
              "      <td>0.459688</td>\n",
              "      <td>0.146921</td>\n",
              "      <td>True</td>\n",
              "    </tr>\n",
              "    <tr>\n",
              "      <th>1</th>\n",
              "      <td>1.197333</td>\n",
              "      <td>6.170995</td>\n",
              "      <td>False</td>\n",
              "      <td>1.210102</td>\n",
              "      <td>3.711391</td>\n",
              "      <td>False</td>\n",
              "      <td>0.741976</td>\n",
              "      <td>6.475498</td>\n",
              "      <td>False</td>\n",
              "      <td>0.454166</td>\n",
              "      <td>0.146921</td>\n",
              "      <td>True</td>\n",
              "    </tr>\n",
              "    <tr>\n",
              "      <th>2</th>\n",
              "      <td>1.082926</td>\n",
              "      <td>6.170995</td>\n",
              "      <td>False</td>\n",
              "      <td>1.366258</td>\n",
              "      <td>3.711391</td>\n",
              "      <td>False</td>\n",
              "      <td>1.117808</td>\n",
              "      <td>6.475498</td>\n",
              "      <td>False</td>\n",
              "      <td>0.453074</td>\n",
              "      <td>0.146921</td>\n",
              "      <td>True</td>\n",
              "    </tr>\n",
              "    <tr>\n",
              "      <th>3</th>\n",
              "      <td>1.198208</td>\n",
              "      <td>6.170995</td>\n",
              "      <td>False</td>\n",
              "      <td>1.520513</td>\n",
              "      <td>3.711391</td>\n",
              "      <td>False</td>\n",
              "      <td>1.604883</td>\n",
              "      <td>6.475498</td>\n",
              "      <td>False</td>\n",
              "      <td>0.478176</td>\n",
              "      <td>0.146921</td>\n",
              "      <td>True</td>\n",
              "    </tr>\n",
              "    <tr>\n",
              "      <th>4</th>\n",
              "      <td>1.444318</td>\n",
              "      <td>6.170995</td>\n",
              "      <td>False</td>\n",
              "      <td>1.276417</td>\n",
              "      <td>3.711391</td>\n",
              "      <td>False</td>\n",
              "      <td>0.835984</td>\n",
              "      <td>6.475498</td>\n",
              "      <td>False</td>\n",
              "      <td>0.468266</td>\n",
              "      <td>0.146921</td>\n",
              "      <td>True</td>\n",
              "    </tr>\n",
              "    <tr>\n",
              "      <th>...</th>\n",
              "      <td>...</td>\n",
              "      <td>...</td>\n",
              "      <td>...</td>\n",
              "      <td>...</td>\n",
              "      <td>...</td>\n",
              "      <td>...</td>\n",
              "      <td>...</td>\n",
              "      <td>...</td>\n",
              "      <td>...</td>\n",
              "      <td>...</td>\n",
              "      <td>...</td>\n",
              "      <td>...</td>\n",
              "    </tr>\n",
              "    <tr>\n",
              "      <th>4409</th>\n",
              "      <td>0.412078</td>\n",
              "      <td>6.170995</td>\n",
              "      <td>False</td>\n",
              "      <td>1.047421</td>\n",
              "      <td>3.711391</td>\n",
              "      <td>False</td>\n",
              "      <td>0.637723</td>\n",
              "      <td>6.475498</td>\n",
              "      <td>False</td>\n",
              "      <td>0.147702</td>\n",
              "      <td>0.146921</td>\n",
              "      <td>True</td>\n",
              "    </tr>\n",
              "    <tr>\n",
              "      <th>4443</th>\n",
              "      <td>0.501328</td>\n",
              "      <td>6.170995</td>\n",
              "      <td>False</td>\n",
              "      <td>1.028969</td>\n",
              "      <td>3.711391</td>\n",
              "      <td>False</td>\n",
              "      <td>0.456392</td>\n",
              "      <td>6.475498</td>\n",
              "      <td>False</td>\n",
              "      <td>0.152599</td>\n",
              "      <td>0.146921</td>\n",
              "      <td>True</td>\n",
              "    </tr>\n",
              "    <tr>\n",
              "      <th>4492</th>\n",
              "      <td>1.095825</td>\n",
              "      <td>6.170995</td>\n",
              "      <td>False</td>\n",
              "      <td>1.521145</td>\n",
              "      <td>3.711391</td>\n",
              "      <td>False</td>\n",
              "      <td>0.620225</td>\n",
              "      <td>6.475498</td>\n",
              "      <td>False</td>\n",
              "      <td>0.147596</td>\n",
              "      <td>0.146921</td>\n",
              "      <td>True</td>\n",
              "    </tr>\n",
              "    <tr>\n",
              "      <th>4495</th>\n",
              "      <td>0.772684</td>\n",
              "      <td>6.170995</td>\n",
              "      <td>False</td>\n",
              "      <td>1.407726</td>\n",
              "      <td>3.711391</td>\n",
              "      <td>False</td>\n",
              "      <td>0.577317</td>\n",
              "      <td>6.475498</td>\n",
              "      <td>False</td>\n",
              "      <td>0.152354</td>\n",
              "      <td>0.146921</td>\n",
              "      <td>True</td>\n",
              "    </tr>\n",
              "    <tr>\n",
              "      <th>5160</th>\n",
              "      <td>1.311880</td>\n",
              "      <td>6.170995</td>\n",
              "      <td>False</td>\n",
              "      <td>2.589066</td>\n",
              "      <td>3.711391</td>\n",
              "      <td>False</td>\n",
              "      <td>0.940289</td>\n",
              "      <td>6.475498</td>\n",
              "      <td>False</td>\n",
              "      <td>0.149049</td>\n",
              "      <td>0.146921</td>\n",
              "      <td>True</td>\n",
              "    </tr>\n",
              "  </tbody>\n",
              "</table>\n",
              "<p>2763 rows × 12 columns</p>\n",
              "</div>"
            ],
            "text/plain": [
              "        x_loss  threshold_x  anomaly_x  ...  amp_loss  threshold_amp  anomaly_amp\n",
              "0     1.030773     6.170995      False  ...  0.459688       0.146921         True\n",
              "1     1.197333     6.170995      False  ...  0.454166       0.146921         True\n",
              "2     1.082926     6.170995      False  ...  0.453074       0.146921         True\n",
              "3     1.198208     6.170995      False  ...  0.478176       0.146921         True\n",
              "4     1.444318     6.170995      False  ...  0.468266       0.146921         True\n",
              "...        ...          ...        ...  ...       ...            ...          ...\n",
              "4409  0.412078     6.170995      False  ...  0.147702       0.146921         True\n",
              "4443  0.501328     6.170995      False  ...  0.152599       0.146921         True\n",
              "4492  1.095825     6.170995      False  ...  0.147596       0.146921         True\n",
              "4495  0.772684     6.170995      False  ...  0.152354       0.146921         True\n",
              "5160  1.311880     6.170995      False  ...  0.149049       0.146921         True\n",
              "\n",
              "[2763 rows x 12 columns]"
            ]
          },
          "metadata": {
            "tags": []
          },
          "execution_count": 115
        }
      ]
    },
    {
      "cell_type": "code",
      "metadata": {
        "id": "eDADMi1IpWU3"
      },
      "source": [
        ""
      ],
      "execution_count": null,
      "outputs": []
    }
  ]
}